{
 "cells": [
  {
   "cell_type": "markdown",
   "metadata": {},
   "source": [
    "# Color Clustering "
   ]
  },
  {
   "cell_type": "markdown",
   "metadata": {},
   "source": [
    "Importing all libraries"
   ]
  },
  {
   "cell_type": "code",
   "execution_count": null,
   "metadata": {},
   "outputs": [],
   "source": [
    "import time\n",
    "import numpy as np\n",
    "import matplotlib.pyplot as plt\n",
    "import operator\n",
    "from mpl_toolkits.mplot3d import Axes3D"
   ]
  },
  {
   "cell_type": "markdown",
   "metadata": {},
   "source": [
    "Creating our class and functions.\n",
    "\n",
    "First of all we have to constitute our list of color. To do that, we are determinate our color point in color space. \"color_points\" is representing all points in LAB space. \"color_list\" is just for reach up to order of the color point list."
   ]
  },
  {
   "cell_type": "code",
   "execution_count": null,
   "metadata": {},
   "outputs": [],
   "source": [
    "class ColorMeanCalculator(object):\n",
    "    color_points = {'Red': [104, 186, 172], 'Orange': [127, 163, 180], 'Green': [117, 87, 172], 'White': [255, 128, 128],\n",
    "                    'Black': [0, 128, 128], 'Purple': [89, 170, 88], 'Yellow': [214, 113, 205], 'Grey': [102, 128, 128],\n",
    "                    'Brown': [96, 138, 188], 'Blue': [51, 125, 49]}\n",
    "    color_lists = ['Red', 'Orange', 'Green', 'White', 'Black', 'Purple', 'Yellow', 'Grey', 'Brown', 'Blue']"
   ]
  },
  {
   "cell_type": "markdown",
   "metadata": {},
   "source": [
    "Now we have to create our __init__ function. We are taking array of pixel for an input."
   ]
  },
  {
   "cell_type": "code",
   "execution_count": null,
   "metadata": {},
   "outputs": [],
   "source": [
    "    def __init__(self, pixel_array):\n",
    "        self.pixel_array = pixel_array"
   ]
  },
  {
   "cell_type": "markdown",
   "metadata": {},
   "source": [
    "In this area, I thought representing color points and pixel point in 3D space might be good for seeing how it is look like. That's why we create 2 function. First one is showing the color points which is identified at the begining of the code and array of pixel which is giving by the user. Second one is just showing all pixels giving bu the user."
   ]
  },
  {
   "cell_type": "code",
   "execution_count": null,
   "metadata": {},
   "outputs": [],
   "source": [
    "    def show_color_space(self):\n",
    "        fig = plt.figure()\n",
    "        ax = Axes3D(fig)\n",
    "\n",
    "        color_array = np.asarray(list(self.color_points.values()))\n",
    "\n",
    "        X1 = color_array[:, 0]\n",
    "        Y1 = color_array[:, 1]\n",
    "        Z1 = color_array[:, 2]\n",
    "\n",
    "        X2 = self.pixel_array[:, 0]\n",
    "        Y2 = self.pixel_array[:, 1]\n",
    "        Z2 = self.pixel_array[:, 2]\n",
    "\n",
    "        ax.scatter(X1, Y1, Z1, c='b', marker='^')\n",
    "        ax.scatter(X2, Y2, Z2, c='r', marker='o')\n",
    "\n",
    "        ax.set_xlim3d(0, 255)\n",
    "        ax.set_ylim3d(0, 255)\n",
    "        ax.set_zlim3d(0, 255)\n",
    "\n",
    "        ax.set_xlabel('A Channel')\n",
    "        ax.set_ylabel('B Channel')\n",
    "        ax.set_zlabel('L Channel')\n",
    "\n",
    "        plt.show()\n",
    "        \n",
    "    def show_pixel_space(self):\n",
    "        fig = plt.figure()\n",
    "        ax = Axes3D(fig)\n",
    "\n",
    "        X = self.pixel_array[:, 0]\n",
    "        Y = self.pixel_array[:, 1]\n",
    "        Z = self.pixel_array[:, 2]\n",
    "\n",
    "        ax.scatter(X, Y, Z)\n",
    "        ax.set_xlim3d(0, 255)\n",
    "        ax.set_ylim3d(0, 255)\n",
    "        ax.set_zlim3d(0, 255)\n",
    "        ax.set_xlabel('A Channel')\n",
    "        ax.set_ylabel('B Channel')\n",
    "        ax.set_zlabel('L Channel')\n",
    "\n",
    "        plt.show()"
   ]
  },
  {
   "cell_type": "markdown",
   "metadata": {},
   "source": [
    "Now we are begining to splitting and grouping pixels.\n",
    "\n",
    "Our function is called \"calculate_distance\". This function is calculating distance between all of the pixel giving by user and our color array. In 4th row we took all of the values of color_points list as a numpy array. After that we looped in 8-9th rows, that is for calculating distance one by one. We measured the distance in 10th row. If counter is equal to length of array, then we can take the smallest number in the \"cluster\" array. The index with the smallest value in line 17 is taken in a different variable. Then clean the \"cluster\" array and append the color of pixel in to the \"final_colors.\n",
    "\n",
    "Shortly, in this function we are returning which pixel is belong to which color."
   ]
  },
  {
   "cell_type": "code",
   "execution_count": null,
   "metadata": {},
   "outputs": [],
   "source": [
    "    def calculate_distance(self):\n",
    "        final_colors = []\n",
    "\n",
    "        color_array = np.asarray(list(self.color_points.values()))\n",
    "        i = 0\n",
    "        cluster = []\n",
    "\n",
    "        for x in self.pixel_array:\n",
    "            for y in color_array:\n",
    "                dist = np.linalg.norm(x - y)\n",
    "                i = i + 1\n",
    "                cluster.append(dist)\n",
    "\n",
    "                if i == len(color_array):\n",
    "                    i = 0\n",
    "                    min_value = min(cluster)\n",
    "                    color_code = cluster.index(min_value)\n",
    "                    cluster.clear()\n",
    "                    final_colors.append(self.color_lists[color_code])\n",
    "\n",
    "        return final_colors"
   ]
  },
  {
   "cell_type": "markdown",
   "metadata": {},
   "source": [
    "After all of these distance calculation, we have to calculate colors now. First of all, A list of colors is created in the same order as the first list, and all colors are set to 0. The list of color given from previus function named \"color_array\" is looped and with this way we can count all of the color. At the end of the loop, we'll be getting how many pieces of what color. \n",
    "\n",
    "After all of that, colors are sorted by highest number in line 27.\n",
    "If we want we can make a filter for lowest colors. In line 34 we are doing that. If \n",
    "This function is returning 2 color. First one is first color, second one is second color. If there is no second color, it will return \"None\"."
   ]
  },
  {
   "cell_type": "code",
   "execution_count": null,
   "metadata": {},
   "outputs": [],
   "source": [
    "    def calculate_colors(self, color_array):\n",
    "        color_count = {'Red': 0, 'Orange': 0, 'Green': 0, 'White': 0, 'Black': 0, 'Purple': 0, 'Yellow': 0, 'Grey': 0,\n",
    "                       'Brown': 0, 'Blue': 0}\n",
    "\n",
    "        for x in color_array:\n",
    "            if x == 'Red':\n",
    "                color_count['Red'] += 1\n",
    "            if x == 'Orange':\n",
    "                color_count['Orange'] += 1\n",
    "            if x == 'Green':\n",
    "                color_count['Green'] += 1\n",
    "            if x == 'White':\n",
    "                color_count['White'] += 1\n",
    "            if x == 'Black':\n",
    "                color_count['Black'] += 1\n",
    "            if x == 'Purple':\n",
    "                color_count['Purple'] += 1\n",
    "            if x == 'Yellow':\n",
    "                color_count['Yellow'] += 1\n",
    "            if x == 'Grey':\n",
    "                color_count['Grey'] += 1\n",
    "            if x == 'Brown':\n",
    "                color_count['Brown'] += 1\n",
    "            if x == 'Blue':\n",
    "                color_count['Blue'] += 1\n",
    "\n",
    "        color_count = sorted(color_count.items(), key=operator.itemgetter(1), reverse=True)\n",
    "        print(color_count)\n",
    "        color1 = color_count[0]\n",
    "        color2 = color_count[1]\n",
    "        col1 = color1[0]\n",
    "        col2 = color2[0]\n",
    "\n",
    "        if int(color2[1]) < 2:\n",
    "            col2 = None\n",
    "\n",
    "        return col1, col2\n"
   ]
  },
  {
   "cell_type": "markdown",
   "metadata": {},
   "source": [
    "Final function is calculating delta error. It means, it is calculating different between real color and producted color. But firstly we have to calculate mean of color cluster. Our clusters are made out from pixels which is close to each other but there are not same. That's why we have to find mean of all these pixsel to calculate delta e. In line 7 to 11 or 15 to 19 we are doing that. \n",
    "\n",
    "After the mean calculation delta e is calculated in line 12 or 20. Finally the function is returned delta e for color 1 and delta e for color 2 if it is exist."
   ]
  },
  {
   "cell_type": "code",
   "execution_count": null,
   "metadata": {},
   "outputs": [],
   "source": [
    "    def calculate_delta_e(self, color_array, code_array, color1, color2=None):\n",
    "        color1_code = []\n",
    "        color2_code = []\n",
    "        de2 = None\n",
    "        real_c1 = self.color_points.get(color1)\n",
    "\n",
    "        index_of_color1 = [i for i, value in enumerate(color_array) if value == color1]\n",
    "        for x in index_of_color1:\n",
    "            color1_code.append(code_array[x])\n",
    "\n",
    "        mean_c1 = np.mean(color1_code, axis=0)\n",
    "        de1 = np.linalg.norm(mean_c1 - real_c1)\n",
    "\n",
    "        if color2 is not None:\n",
    "            real_c2 = self.color_points.get(color2)\n",
    "            index_of_color2 = [index for index, value in enumerate(color_array) if value == color2]\n",
    "            for x in index_of_color2:\n",
    "                color2_code.append(code_array[x])\n",
    "            mean_c2 = np.mean(color2_code, axis=0)\n",
    "            de2 = np.linalg.norm(mean_c2 - real_c2)\n",
    "\n",
    "        return de1, de2"
   ]
  }
 ],
 "metadata": {
  "kernelspec": {
   "display_name": "Python 3",
   "language": "python",
   "name": "python3"
  },
  "language_info": {
   "codemirror_mode": {
    "name": "ipython",
    "version": 3
   },
   "file_extension": ".py",
   "mimetype": "text/x-python",
   "name": "python",
   "nbconvert_exporter": "python",
   "pygments_lexer": "ipython3",
   "version": "3.6.5"
  }
 },
 "nbformat": 4,
 "nbformat_minor": 2
}
